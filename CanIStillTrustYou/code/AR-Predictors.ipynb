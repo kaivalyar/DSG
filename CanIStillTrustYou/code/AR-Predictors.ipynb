{
 "cells": [
  {
   "cell_type": "code",
   "execution_count": 1,
   "metadata": {},
   "outputs": [],
   "source": [
    "import numpy as np\n",
    "import pandas as pd\n",
    "import matplotlib.pyplot as plt\n",
    "import random\n",
    "from sklearn.linear_model import LogisticRegression\n",
    "from sklearn.metrics import confusion_matrix\n",
    "from sklearn.metrics import accuracy_score\n",
    "from tqdm import tqdm_notebook as tqdm\n",
    "from sklearn.model_selection import cross_val_score\n",
    "from recourse.builder import RecourseBuilder\n",
    "from recourse.builder import ActionSet\n",
    "from lime.lime_tabular import LimeTabularExplainer\n",
    "\n",
    "from scipy.stats import wasserstein_distance\n"
   ]
  },
  {
   "cell_type": "code",
   "execution_count": 2,
   "metadata": {},
   "outputs": [],
   "source": [
    "np.random.seed(0)\n",
    "random.seed(0)"
   ]
  },
  {
   "cell_type": "code",
   "execution_count": 3,
   "metadata": {},
   "outputs": [],
   "source": [
    "def gen_data(means, covs, clf, points=2500):\n",
    "    data = np.random.multivariate_normal(means, covs, points)\n",
    "    data = pd.DataFrame(data, columns=['X0', 'X1'])\n",
    "    data['target'] = clf(data['X0'], data['X1'])\n",
    "    data['target'] = data['target'].astype(float)\n",
    "    return data"
   ]
  },
  {
   "cell_type": "code",
   "execution_count": 4,
   "metadata": {},
   "outputs": [],
   "source": [
    "def gen_recourses(data, model, lime=False):\n",
    "    population = data.copy()\n",
    "    population['PRED'] = model.predict(population.to_numpy())\n",
    "    if lime:\n",
    "        explainer = LimeTabularExplainer(data.to_numpy(), feature_names=data.columns, class_names=np.unique(population['PRED']), discretize_continuous=False)\n",
    "    population = population[population['PRED'] == 0]\n",
    "    population = population.drop(columns=['PRED'])\n",
    "    \n",
    "    no_recourse = []\n",
    "    recourses = pd.DataFrame(columns=population.columns)\n",
    "    for index, row in tqdm(population.iterrows(), total=population.shape[0]):\n",
    "        row = row.values.reshape(1,-1)\n",
    "        if lime:\n",
    "            clf = explainer.explain_instance(row.flatten(), predict_fn=model.predict_proba)#, labels=[0,1])\n",
    "            coefficients = {feat: coeff for (feat, coeff) in clf.as_list()}\n",
    "            coefficients = np.array([coefficients.get(feat, 0) for feat in population.columns])\n",
    "            intercept = clf.intercept[1] # - clf_base2.intercept[1]\n",
    "        else:\n",
    "            coefficients = np.array(model.coef_).flatten()\n",
    "            intercept = model.intercept_[0]\n",
    "        rb = RecourseBuilder(\n",
    "              optimizer=\"cplex\",\n",
    "              coefficients=np.round(coefficients, decimals=4),\n",
    "              intercept=np.round(intercept, decimals=4),\n",
    "              action_set=ActionSet(X=data),\n",
    "              x=row\n",
    "        )\n",
    "        rb = rb.fit()\n",
    "        if not rb['feasible']:\n",
    "            no_recourse.append(index)\n",
    "            continue\n",
    "        new_row = row + rb['actions']\n",
    "        if model.predict(new_row)[0] == 0:\n",
    "            no_recourse.append(index)\n",
    "            continue\n",
    "        recourses.loc[index] = new_row.flatten()\n",
    "    return recourses, no_recourse"
   ]
  },
  {
   "cell_type": "code",
   "execution_count": 5,
   "metadata": {},
   "outputs": [],
   "source": [
    "means = [0,0]\n",
    "covs = [[1,0],[0,1]]\n",
    "def clf(X0, X1):\n",
    "    return X0 + X1 > 0\n",
    "def get_means(alpha):\n",
    "    return [alpha, alpha]"
   ]
  },
  {
   "cell_type": "code",
   "execution_count": 6,
   "metadata": {},
   "outputs": [],
   "source": [
    "def run_single(means1, covs1, means2, covs2, clf1, clf2):\n",
    "    D1 = gen_data(means1, covs1, clf1)\n",
    "    D2 = gen_data(means2, covs1, clf2)\n",
    "\n",
    "    M1 = LogisticRegression(random_state=0, solver='liblinear')\n",
    "    M1.fit(D1[['X0', 'X1']], D1['target'])\n",
    "\n",
    "    CF1, ncf1 = gen_recourses(D1[['X0', 'X1']], M1)\n",
    "\n",
    "    M2 = LogisticRegression(random_state=0, solver='liblinear')\n",
    "    M2.fit(D2[['X0', 'X1']], D2['target'])\n",
    "\n",
    "    CF1['target'] = clf(CF1['X0'], CF1['X1'])\n",
    "    CF1['target'] = CF1['target'].astype(float)\n",
    "    CF1['M1_pred'] = M1.predict(CF1[['X0', 'X1']])\n",
    "    CF1['M2_pred'] = M2.predict(CF1[['X0', 'X1']])\n",
    "\n",
    "    invpct = 100*(1-np.mean(CF1['M2_pred']))\n",
    "    # print('Invalidation is', invpct, '%')\n",
    "    M1_acc = cross_val_score(M1, D1[['X0', 'X1']], D1['target'], cv=10).mean()\n",
    "    # print('M1 cross val acc', M1_acc)\n",
    "    M2_acc = cross_val_score(M2, D2[['X0', 'X1']], D2['target'], cv=10).mean()\n",
    "    # print('M2 cross val acc', M2_acc)\n",
    "    return invpct, M1_acc, M2_acc, wasserstein_distance(D1['X0'], D2['X0'])"
   ]
  },
  {
   "cell_type": "code",
   "execution_count": 7,
   "metadata": {},
   "outputs": [],
   "source": [
    "def runall(alphas):\n",
    "    inv, M1accs, M2accs, shifts = [], [], [], []\n",
    "    for alpha in tqdm(alphas):\n",
    "        invpct, m1, m2, shift = run_single(means, covs, get_means(alpha), covs, clf, clf)\n",
    "        inv.append(invpct)\n",
    "        M1accs.append(m1)\n",
    "        M2accs.append(m2)\n",
    "        shifts.append(shift)\n",
    "    return inv, M1accs, M2accs, shifts"
   ]
  },
  {
   "cell_type": "code",
   "execution_count": 8,
   "metadata": {},
   "outputs": [],
   "source": [
    "def gen_data(means, covs, clf, points=2000):\n",
    "    data = np.random.multivariate_normal(means, covs, points)\n",
    "    data = pd.DataFrame(data, columns=['X0', 'X1'])\n",
    "    data['target'] = clf(data['X0'], data['X1'])\n",
    "    data['target'] = data['target'].astype(float)\n",
    "    return data"
   ]
  },
  {
   "cell_type": "code",
   "execution_count": 9,
   "metadata": {},
   "outputs": [
    {
     "data": {
      "text/plain": [
       "[-1.1,\n",
       " -0.9625,\n",
       " -0.825,\n",
       " -0.6875,\n",
       " -0.55,\n",
       " -0.4125,\n",
       " -0.275,\n",
       " -0.1375,\n",
       " 0.0,\n",
       " 0.1375,\n",
       " 0.275,\n",
       " 0.4125,\n",
       " 0.55,\n",
       " 0.6875,\n",
       " 0.825,\n",
       " 0.9625,\n",
       " 1.1]"
      ]
     },
     "execution_count": 9,
     "metadata": {},
     "output_type": "execute_result"
    }
   ],
   "source": [
    "alphas3 = [i/100 for i in range(60,85,10)]\n",
    "alphas3 += [i/100 for i in range(85,95,2)]\n",
    "alphas3 += [i/100 for i in range(95,98,1)]\n",
    "alphas3 += [i/1000 for i in range(980,1021,5)]\n",
    "alphas3 += [i/100 for i in range(103,105,1)]\n",
    "alphas3 += [i/100 for i in range(105,116,2)]\n",
    "alphas3 += [i/100 for i in range(120,151,10)]\n",
    "\n",
    "# 100*(np.array(alphas3)-1)\n",
    "# alphas3 = alphas3[12:19]\n",
    "alphas3 = [i/10000 for i in range(-11000,11001,1375)]\n",
    "alphas3"
   ]
  },
  {
   "cell_type": "code",
   "execution_count": null,
   "metadata": {},
   "outputs": [],
   "source": []
  },
  {
   "cell_type": "code",
   "execution_count": 10,
   "metadata": {},
   "outputs": [
    {
     "data": {
      "application/vnd.jupyter.widget-view+json": {
       "model_id": "4b3fd11abf594ff28b078e1939eedefc",
       "version_major": 2,
       "version_minor": 0
      },
      "text/plain": [
       "HBox(children=(IntProgress(value=0, max=17), HTML(value='')))"
      ]
     },
     "metadata": {},
     "output_type": "display_data"
    },
    {
     "data": {
      "application/vnd.jupyter.widget-view+json": {
       "model_id": "14f3322202e44849a36f3cb0d2e4f683",
       "version_major": 2,
       "version_minor": 0
      },
      "text/plain": [
       "HBox(children=(IntProgress(value=0, max=1030), HTML(value='')))"
      ]
     },
     "metadata": {},
     "output_type": "display_data"
    },
    {
     "data": {
      "application/vnd.jupyter.widget-view+json": {
       "model_id": "4de7441e9c564981854ec20d2dcb13a8",
       "version_major": 2,
       "version_minor": 0
      },
      "text/plain": [
       "HBox(children=(IntProgress(value=0, max=1030), HTML(value='')))"
      ]
     },
     "metadata": {},
     "output_type": "display_data"
    },
    {
     "data": {
      "application/vnd.jupyter.widget-view+json": {
       "model_id": "8c7bd2e4fb634b5bad225feedb1a9e96",
       "version_major": 2,
       "version_minor": 0
      },
      "text/plain": [
       "HBox(children=(IntProgress(value=0, max=985), HTML(value='')))"
      ]
     },
     "metadata": {},
     "output_type": "display_data"
    },
    {
     "data": {
      "application/vnd.jupyter.widget-view+json": {
       "model_id": "aebe89018a184435976a518ac66b97ac",
       "version_major": 2,
       "version_minor": 0
      },
      "text/plain": [
       "HBox(children=(IntProgress(value=0, max=984), HTML(value='')))"
      ]
     },
     "metadata": {},
     "output_type": "display_data"
    },
    {
     "data": {
      "application/vnd.jupyter.widget-view+json": {
       "model_id": "657ddcfdc3764cef980c33098fc64896",
       "version_major": 2,
       "version_minor": 0
      },
      "text/plain": [
       "HBox(children=(IntProgress(value=0, max=1027), HTML(value='')))"
      ]
     },
     "metadata": {},
     "output_type": "display_data"
    },
    {
     "data": {
      "application/vnd.jupyter.widget-view+json": {
       "model_id": "832f6408b1114aa1a132e29c6be24259",
       "version_major": 2,
       "version_minor": 0
      },
      "text/plain": [
       "HBox(children=(IntProgress(value=0, max=1000), HTML(value='')))"
      ]
     },
     "metadata": {},
     "output_type": "display_data"
    },
    {
     "data": {
      "application/vnd.jupyter.widget-view+json": {
       "model_id": "938545578f0b4114bfefc3886f818f92",
       "version_major": 2,
       "version_minor": 0
      },
      "text/plain": [
       "HBox(children=(IntProgress(value=0, max=994), HTML(value='')))"
      ]
     },
     "metadata": {},
     "output_type": "display_data"
    },
    {
     "data": {
      "application/vnd.jupyter.widget-view+json": {
       "model_id": "59e827e4c9934e7cab7683a64f137126",
       "version_major": 2,
       "version_minor": 0
      },
      "text/plain": [
       "HBox(children=(IntProgress(value=0, max=1005), HTML(value='')))"
      ]
     },
     "metadata": {},
     "output_type": "display_data"
    },
    {
     "data": {
      "application/vnd.jupyter.widget-view+json": {
       "model_id": "1623f922e08145a08365a2469cd2d23d",
       "version_major": 2,
       "version_minor": 0
      },
      "text/plain": [
       "HBox(children=(IntProgress(value=0, max=973), HTML(value='')))"
      ]
     },
     "metadata": {},
     "output_type": "display_data"
    },
    {
     "data": {
      "application/vnd.jupyter.widget-view+json": {
       "model_id": "b6129dfbb8c843ac99e4ba88ad0bcd9e",
       "version_major": 2,
       "version_minor": 0
      },
      "text/plain": [
       "HBox(children=(IntProgress(value=0, max=1008), HTML(value='')))"
      ]
     },
     "metadata": {},
     "output_type": "display_data"
    },
    {
     "data": {
      "application/vnd.jupyter.widget-view+json": {
       "model_id": "0eddf394b4e84ceaaf572d32ff028980",
       "version_major": 2,
       "version_minor": 0
      },
      "text/plain": [
       "HBox(children=(IntProgress(value=0, max=1011), HTML(value='')))"
      ]
     },
     "metadata": {},
     "output_type": "display_data"
    },
    {
     "data": {
      "application/vnd.jupyter.widget-view+json": {
       "model_id": "1e00785f725c406d97b24125d2726587",
       "version_major": 2,
       "version_minor": 0
      },
      "text/plain": [
       "HBox(children=(IntProgress(value=0, max=978), HTML(value='')))"
      ]
     },
     "metadata": {},
     "output_type": "display_data"
    },
    {
     "data": {
      "application/vnd.jupyter.widget-view+json": {
       "model_id": "73d0320de2ac4437ac5b71d5d214596f",
       "version_major": 2,
       "version_minor": 0
      },
      "text/plain": [
       "HBox(children=(IntProgress(value=0, max=992), HTML(value='')))"
      ]
     },
     "metadata": {},
     "output_type": "display_data"
    },
    {
     "data": {
      "application/vnd.jupyter.widget-view+json": {
       "model_id": "94ca7006f98e4c859ea1ca779a79b96c",
       "version_major": 2,
       "version_minor": 0
      },
      "text/plain": [
       "HBox(children=(IntProgress(value=0, max=1013), HTML(value='')))"
      ]
     },
     "metadata": {},
     "output_type": "display_data"
    },
    {
     "data": {
      "application/vnd.jupyter.widget-view+json": {
       "model_id": "7d97df5f5b954479893a12e582e5701f",
       "version_major": 2,
       "version_minor": 0
      },
      "text/plain": [
       "HBox(children=(IntProgress(value=0, max=953), HTML(value='')))"
      ]
     },
     "metadata": {},
     "output_type": "display_data"
    },
    {
     "data": {
      "application/vnd.jupyter.widget-view+json": {
       "model_id": "78801ffe077d4e6db1b2efc6b493ea85",
       "version_major": 2,
       "version_minor": 0
      },
      "text/plain": [
       "HBox(children=(IntProgress(value=0, max=1010), HTML(value='')))"
      ]
     },
     "metadata": {},
     "output_type": "display_data"
    },
    {
     "data": {
      "application/vnd.jupyter.widget-view+json": {
       "model_id": "f257f118b5bb430aab098ce8f722022e",
       "version_major": 2,
       "version_minor": 0
      },
      "text/plain": [
       "HBox(children=(IntProgress(value=0, max=962), HTML(value='')))"
      ]
     },
     "metadata": {},
     "output_type": "display_data"
    },
    {
     "name": "stdout",
     "output_type": "stream",
     "text": [
      "\n"
     ]
    }
   ],
   "source": [
    "inv3, M1accs3, M2accs3, shifts = runall(alphas3)"
   ]
  },
  {
   "cell_type": "code",
   "execution_count": null,
   "metadata": {},
   "outputs": [],
   "source": []
  },
  {
   "cell_type": "code",
   "execution_count": 17,
   "metadata": {},
   "outputs": [
    {
     "data": {
      "text/plain": [
       "<Figure size 1080x720 with 0 Axes>"
      ]
     },
     "metadata": {},
     "output_type": "display_data"
    },
    {
     "data": {
      "image/png": "[encoded data removed]",
      "text/plain": [
       "<Figure size 900x600 with 1 Axes>"
      ]
     },
     "metadata": {
      "needs_background": "light"
     },
     "output_type": "display_data"
    }
   ],
   "source": [
    "t = -np.array(alphas3)\n",
    "data1 = inv3\n",
    "# data2 = 100*np.array(M1accs3)+np.random.random(len(alphas3))\n",
    "# data3 = 100*np.array(M2accs3)+np.random.random(len(alphas3))\n",
    "data2 = 100*np.array(M1accs3)\n",
    "data3 = 100*np.array(M2accs3)\n",
    "\n",
    "plt.figure(dpi=180)\n",
    "fig, ax1 = plt.subplots()\n",
    "fig.set_dpi(150)\n",
    "\n",
    "color = 'C1'\n",
    "ax1.set_xlabel(r'$\\alpha$ Shifting Predictors', fontsize=15)\n",
    "ax1.set_ylabel('Invalidation (%)', fontsize=17)#, color='C1')\n",
    "ax1.plot(t, data1, color=color, label='Invalidation of CF1 by M2', marker='o')\n",
    "ax1.tick_params(axis='y')#, labelcolor='C1')\n",
    "ax1.set_ylim(-1, 104)#14+max(data1))\n",
    "# ax1.set_xlim(-105, 105)\n",
    "ax1.axvline(0, linestyle=':')\n",
    "# ax1.axvline(0, color='C3', linestyle=':', label='No Shift')\n",
    "# ax1.legend(loc=2)\n",
    "ax1.legend(fontsize=14)\n",
    "# ax1.set_xscale('symlog')\n",
    "\n",
    "# ax2 = ax1.twinx()\n",
    "# color = 'C0'\n",
    "# ax2.set_ylabel('10-Fold CrossVal Accuracy (%)', color='C0')\n",
    "# ax2.plot(t-0.01, data2, label='M1 acc.', color='C0', marker='1', zorder=2, alpha=0.5)\n",
    "# ax2.plot(t+0.01, data3, label='M2 acc.', color='C2', marker='2', zorder=1, alpha=0.5)\n",
    "# # ax2.scatter(t-0.01, data3, label='M2 acc.', color='red', marker='.')\n",
    "# ax2.tick_params(axis='y', labelcolor='C2')\n",
    "# ax2.set_ylim(-1, 104)\n",
    "# ax2.legend(loc=4)\n",
    "\n",
    "# plt.title('Invalidation vs Distribution Shifts')\n",
    "plt.show()\n"
   ]
  },
  {
   "cell_type": "code",
   "execution_count": 12,
   "metadata": {},
   "outputs": [
    {
     "name": "stdout",
     "output_type": "stream",
     "text": [
      "[ 1.1     0.9625  0.825   0.6875  0.55    0.4125  0.275   0.1375 -0.\n",
      " -0.1375 -0.275  -0.4125 -0.55   -0.6875 -0.825  -0.9625 -1.1   ]\n",
      "[100.0, 97.0873786407767, 100.0, 83.02845528455285, 46.15384615384615, 0.8000000000000007, 36.72032193158954, 2.985074626865669, 0.0, 0.1984126984126977, 0.1978239366963397, 2.1472392638036797, 0.0, 0.0, 0.0, 0.0, 0.0]\n",
      "[99.70024876 99.649995   99.85074627 99.6        99.70074627 99.70049251\n",
      " 99.74924373 99.55024376 99.75       99.749995   99.64949749 99.8\n",
      " 99.64924373 99.9        99.49949749 99.6499975  99.79924623]\n",
      "[99.40024876 99.45023876 99.29999    99.50024626 99.60024126 99.55123878\n",
      " 99.85024626 99.65099502 99.70024626 99.7        99.45124378 99.79949499\n",
      " 99.14798245 99.64899497 99.65       99.49974874 99.49974624]\n"
     ]
    }
   ],
   "source": [
    "print(t)\n",
    "print(data1)\n",
    "print(data2)\n",
    "print(data3)"
   ]
  },
  {
   "cell_type": "code",
   "execution_count": null,
   "metadata": {},
   "outputs": [],
   "source": []
  }
 ],
 "metadata": {
  "kernelspec": {
   "display_name": "Python 3",
   "language": "python",
   "name": "python3"
  },
  "language_info": {
   "codemirror_mode": {
    "name": "ipython",
    "version": 3
   },
   "file_extension": ".py",
   "mimetype": "text/x-python",
   "name": "python",
   "nbconvert_exporter": "python",
   "pygments_lexer": "ipython3",
   "version": "3.7.3"
  }
 },
 "nbformat": 4,
 "nbformat_minor": 2
}
