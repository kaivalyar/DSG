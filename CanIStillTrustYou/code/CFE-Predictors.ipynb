{
 "cells": [
  {
   "cell_type": "code",
   "execution_count": 1,
   "metadata": {},
   "outputs": [],
   "source": [
    "import numpy as np\n",
    "import pandas as pd\n",
    "import matplotlib.pyplot as plt\n",
    "import random\n",
    "from sklearn.linear_model import LogisticRegression\n",
    "from sklearn.metrics import confusion_matrix\n",
    "from sklearn.metrics import accuracy_score\n",
    "from tqdm import tqdm_notebook as tqdm\n",
    "from sklearn.model_selection import cross_val_score\n",
    "from recourse.builder import RecourseBuilder\n",
    "from recourse.builder import ActionSet\n",
    "from lime.lime_tabular import LimeTabularExplainer\n",
    "\n",
    "from scipy.stats import wasserstein_distance\n"
   ]
  },
  {
   "cell_type": "code",
   "execution_count": 2,
   "metadata": {},
   "outputs": [],
   "source": [
    "np.random.seed(0)\n",
    "random.seed(0)"
   ]
  },
  {
   "cell_type": "code",
   "execution_count": 3,
   "metadata": {},
   "outputs": [],
   "source": [
    "def gen_data(means, covs, clf, points=2500):\n",
    "    data = np.random.multivariate_normal(means, covs, points)\n",
    "    data = pd.DataFrame(data, columns=['X0', 'X1'])\n",
    "    data['target'] = clf(data['X0'], data['X1'])\n",
    "    data['target'] = data['target'].astype(float)\n",
    "    return data"
   ]
  },
  {
   "cell_type": "code",
   "execution_count": 4,
   "metadata": {},
   "outputs": [],
   "source": [
    "def get_recourse(row, clf, learning_rate=0.002, max_iter=100000):\n",
    "    rec = np.array(row).reshape(1,-1).astype(float)\n",
    "    iter_count = 0\n",
    "    while(clf.predict(rec) == [0]):\n",
    "        rec += learning_rate * clf.coef_\n",
    "        if iter_count >= max_iter:\n",
    "            return None\n",
    "        iter_count += 1\n",
    "    return rec\n",
    "\n",
    "def gen_recourses(data, clf):\n",
    "    need_rec = data[data['target'] == 0]\n",
    "    need_rec = need_rec[['X0', 'X1']]\n",
    "    recourses = []\n",
    "#     for index, row in tqdm(need_rec.iterrows(), total=need_rec.shape[0]):\n",
    "    for index, row in need_rec.iterrows():\n",
    "        recourses.append(get_recourse(row, clf)[0])\n",
    "    return pd.DataFrame(np.array(recourses), columns=['X0','X1']), None"
   ]
  },
  {
   "cell_type": "code",
   "execution_count": 5,
   "metadata": {},
   "outputs": [],
   "source": [
    "means = [0,0]\n",
    "covs = [[1,0],[0,1]]\n",
    "def clf(X0, X1):\n",
    "    return X0 + X1 > 0\n",
    "def get_means(alpha):\n",
    "    return [alpha, alpha]"
   ]
  },
  {
   "cell_type": "code",
   "execution_count": 6,
   "metadata": {},
   "outputs": [],
   "source": [
    "def run_single(means1, covs1, means2, covs2, clf1, clf2):\n",
    "    D1 = gen_data(means1, covs1, clf1)\n",
    "    D2 = gen_data(means2, covs1, clf2)\n",
    "\n",
    "    M1 = LogisticRegression(random_state=0, solver='liblinear')\n",
    "    M1.fit(D1[['X0', 'X1']], D1['target'])\n",
    "\n",
    "    CF1, ncf1 = gen_recourses(D1, M1)\n",
    "\n",
    "    M2 = LogisticRegression(random_state=0, solver='liblinear')\n",
    "    M2.fit(D2[['X0', 'X1']], D2['target'])\n",
    "\n",
    "    CF1['target'] = clf(CF1['X0'], CF1['X1'])\n",
    "    CF1['target'] = CF1['target'].astype(float)\n",
    "    CF1['M1_pred'] = M1.predict(CF1[['X0', 'X1']])\n",
    "    CF1['M2_pred'] = M2.predict(CF1[['X0', 'X1']])\n",
    "\n",
    "    invpct = 100*(1-np.mean(CF1['M2_pred']))\n",
    "    # print('Invalidation is', invpct, '%')\n",
    "    M1_acc = cross_val_score(M1, D1[['X0', 'X1']], D1['target'], cv=10).mean()\n",
    "    # print('M1 cross val acc', M1_acc)\n",
    "    M2_acc = cross_val_score(M2, D2[['X0', 'X1']], D2['target'], cv=10).mean()\n",
    "    # print('M2 cross val acc', M2_acc)\n",
    "    return invpct, M1_acc, M2_acc, wasserstein_distance(D1['X0'], D2['X0'])"
   ]
  },
  {
   "cell_type": "code",
   "execution_count": 7,
   "metadata": {},
   "outputs": [],
   "source": [
    "def runall(alphas):\n",
    "    inv, M1accs, M2accs, shifts = [], [], [], []\n",
    "    for alpha in tqdm(alphas):\n",
    "        invpct, m1, m2, shift = run_single(means, covs, get_means(alpha), covs, clf, clf)\n",
    "        inv.append(invpct)\n",
    "        M1accs.append(m1)\n",
    "        M2accs.append(m2)\n",
    "        shifts.append(shift)\n",
    "    return inv, M1accs, M2accs, shifts"
   ]
  },
  {
   "cell_type": "code",
   "execution_count": 8,
   "metadata": {},
   "outputs": [],
   "source": [
    "def gen_data(means, covs, clf, points=20000):\n",
    "    data = np.random.multivariate_normal(means, covs, points)\n",
    "    data = pd.DataFrame(data, columns=['X0', 'X1'])\n",
    "    data['target'] = clf(data['X0'], data['X1'])\n",
    "    data['target'] = data['target'].astype(float)\n",
    "    return data"
   ]
  },
  {
   "cell_type": "code",
   "execution_count": 9,
   "metadata": {},
   "outputs": [
    {
     "data": {
      "text/plain": [
       "[-1.1,\n",
       " -0.9625,\n",
       " -0.825,\n",
       " -0.6875,\n",
       " -0.55,\n",
       " -0.4125,\n",
       " -0.275,\n",
       " -0.1375,\n",
       " 0.0,\n",
       " 0.1375,\n",
       " 0.275,\n",
       " 0.4125,\n",
       " 0.55,\n",
       " 0.6875,\n",
       " 0.825,\n",
       " 0.9625,\n",
       " 1.1]"
      ]
     },
     "execution_count": 9,
     "metadata": {},
     "output_type": "execute_result"
    }
   ],
   "source": [
    "alphas3 = [i/100 for i in range(60,85,10)]\n",
    "alphas3 += [i/100 for i in range(85,95,2)]\n",
    "alphas3 += [i/100 for i in range(95,98,1)]\n",
    "alphas3 += [i/1000 for i in range(980,1021,5)]\n",
    "alphas3 += [i/100 for i in range(103,105,1)]\n",
    "alphas3 += [i/100 for i in range(105,116,2)]\n",
    "alphas3 += [i/100 for i in range(120,151,10)]\n",
    "\n",
    "# 100*(np.array(alphas3)-1)\n",
    "# alphas3 = alphas3[12:19]\n",
    "alphas3 = [i/10000 for i in range(-11000,11001,1375)]\n",
    "alphas3"
   ]
  },
  {
   "cell_type": "code",
   "execution_count": null,
   "metadata": {},
   "outputs": [],
   "source": []
  },
  {
   "cell_type": "code",
   "execution_count": 10,
   "metadata": {},
   "outputs": [
    {
     "data": {
      "application/vnd.jupyter.widget-view+json": {
       "model_id": "2b2b2aad953449e7a06102d3bd626f25",
       "version_major": 2,
       "version_minor": 0
      },
      "text/plain": [
       "HBox(children=(IntProgress(value=0, max=17), HTML(value='')))"
      ]
     },
     "metadata": {},
     "output_type": "display_data"
    },
    {
     "name": "stdout",
     "output_type": "stream",
     "text": [
      "\n"
     ]
    }
   ],
   "source": [
    "inv3, M1accs3, M2accs3, shifts = runall(alphas3)"
   ]
  },
  {
   "cell_type": "code",
   "execution_count": null,
   "metadata": {},
   "outputs": [],
   "source": []
  },
  {
   "cell_type": "code",
   "execution_count": 21,
   "metadata": {},
   "outputs": [
    {
     "data": {
      "text/plain": [
       "<Figure size 1080x720 with 0 Axes>"
      ]
     },
     "metadata": {},
     "output_type": "display_data"
    },
    {
     "data": {
      "image/png": "[encoded data removed]",
      "text/plain": [
       "<Figure size 900x600 with 1 Axes>"
      ]
     },
     "metadata": {
      "needs_background": "light"
     },
     "output_type": "display_data"
    }
   ],
   "source": [
    "t = -np.array(alphas3)\n",
    "data1 = inv3\n",
    "# data2 = 100*np.array(M1accs3)+np.random.random(len(alphas3))\n",
    "# data3 = 100*np.array(M2accs3)+np.random.random(len(alphas3))\n",
    "data2 = 100*np.array(M1accs3)\n",
    "data3 = 100*np.array(M2accs3)\n",
    "\n",
    "plt.figure(dpi=180)\n",
    "fig, ax1 = plt.subplots()\n",
    "fig.set_dpi(150)\n",
    "\n",
    "color = 'C1'\n",
    "ax1.set_xlabel(r'$\\alpha$ Shifting Predictors', fontsize=15)\n",
    "ax1.set_ylabel('Invalidation (%)', fontsize=17)#, color='C1')\n",
    "ax1.plot(t, data1, color=color, label='Invalidation of CF1 by M2', marker='o')\n",
    "ax1.tick_params(axis='y')#, labelcolor='C1')\n",
    "ax1.set_ylim(-1, 14+max(data1))\n",
    "# ax1.set_xlim(-105, 105)\n",
    "ax1.axvline(0, linestyle=':')\n",
    "# ax1.axvline(0, color='C3', linestyle=':', label='No Shift')\n",
    "# ax1.legend(loc=2)\n",
    "ax1.legend(fontsize=14)\n",
    "# ax1.set_xscale('symlog')\n",
    "\n",
    "# ax2 = ax1.twinx()\n",
    "# color = 'C0'\n",
    "# ax2.set_ylabel('10-Fold CrossVal Accuracy (%)', color='C0')\n",
    "# ax2.plot(t-0.01, data2, label='M1 acc.', color='C0', marker='1', zorder=2, alpha=0.5)\n",
    "# ax2.plot(t+0.01, data3, label='M2 acc.', color='C2', marker='2', zorder=1, alpha=0.5)\n",
    "# # ax2.scatter(t-0.01, data3, label='M2 acc.', color='red', marker='.')\n",
    "# ax2.tick_params(axis='y', labelcolor='C2')\n",
    "# ax2.set_ylim(-1, 101)\n",
    "# ax2.legend(loc=1)\n",
    "\n",
    "# plt.title('Invalidation vs Distribution Shifts')\n",
    "plt.show()\n"
   ]
  },
  {
   "cell_type": "code",
   "execution_count": 12,
   "metadata": {},
   "outputs": [
    {
     "name": "stdout",
     "output_type": "stream",
     "text": [
      "[ 1.1     0.9625  0.825   0.6875  0.55    0.4125  0.275   0.1375 -0.\n",
      " -0.1375 -0.275  -0.4125 -0.55   -0.6875 -0.825  -0.9625 -1.1   ]\n",
      "[27.766739519173456, 1.6705714576754627, 7.462686567164178, 13.594863048058592, 12.65670444288437, 0.0, 7.436614094629668, 0.11982026959560521, 7.823570501945909, 0.07973686833450122, 0.04990518015770551, 0.5077152812344443, 0.09996001599360538, 0.0, 0.3385779725154303, 0.0, 0.2587837165322959]\n",
      "[99.93000748 99.945      99.93999749 99.85999498 99.87999499 99.92498999\n",
      " 99.9399925  99.86999997 99.875005   99.96000249 99.9500025  99.88002497\n",
      " 99.90499498 99.90999499 99.93000749 99.97       99.95998999]\n",
      "[99.78001248 99.96       99.925      99.91499998 99.88       99.960005\n",
      " 99.90998498 99.935      99.895      99.9400025  99.88499748 99.93500749\n",
      " 99.80999248 99.92000498 99.894995   99.84999497 99.90001498]\n"
     ]
    }
   ],
   "source": [
    "print(t)\n",
    "print(data1)\n",
    "print(data2)\n",
    "print(data3)"
   ]
  },
  {
   "cell_type": "code",
   "execution_count": null,
   "metadata": {},
   "outputs": [],
   "source": []
  }
 ],
 "metadata": {
  "kernelspec": {
   "display_name": "Python 3",
   "language": "python",
   "name": "python3"
  },
  "language_info": {
   "codemirror_mode": {
    "name": "ipython",
    "version": 3
   },
   "file_extension": ".py",
   "mimetype": "text/x-python",
   "name": "python",
   "nbconvert_exporter": "python",
   "pygments_lexer": "ipython3",
   "version": "3.7.3"
  }
 },
 "nbformat": 4,
 "nbformat_minor": 2
}
