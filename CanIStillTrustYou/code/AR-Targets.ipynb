{
 "cells": [
  {
   "cell_type": "code",
   "execution_count": 1,
   "metadata": {},
   "outputs": [],
   "source": [
    "import numpy as np\n",
    "import pandas as pd\n",
    "import matplotlib.pyplot as plt\n",
    "import random\n",
    "from sklearn.linear_model import LogisticRegression\n",
    "from sklearn.metrics import confusion_matrix\n",
    "from sklearn.metrics import accuracy_score\n",
    "from tqdm import tqdm_notebook as tqdm\n",
    "from sklearn.model_selection import cross_val_score\n",
    "from recourse.builder import RecourseBuilder\n",
    "from recourse.builder import ActionSet\n",
    "from lime.lime_tabular import LimeTabularExplainer\n",
    "\n",
    "from scipy.stats import wasserstein_distance\n"
   ]
  },
  {
   "cell_type": "code",
   "execution_count": 2,
   "metadata": {},
   "outputs": [],
   "source": [
    "np.random.seed(0)\n",
    "random.seed(0)"
   ]
  },
  {
   "cell_type": "code",
   "execution_count": 3,
   "metadata": {},
   "outputs": [],
   "source": [
    "def gen_data(means, covs, clf, points=2500):\n",
    "    data = np.random.multivariate_normal(means, covs, points)\n",
    "    data = pd.DataFrame(data, columns=['X0', 'X1'])\n",
    "    data['target'] = clf(data['X0'], data['X1'])\n",
    "    data['target'] = data['target'].astype(float)\n",
    "    return data"
   ]
  },
  {
   "cell_type": "code",
   "execution_count": 4,
   "metadata": {},
   "outputs": [],
   "source": [
    "def gen_recourses(data, model, lime=False):\n",
    "    population = data.copy()\n",
    "    population['PRED'] = model.predict(population.to_numpy())\n",
    "    if lime:\n",
    "        explainer = LimeTabularExplainer(data.to_numpy(), feature_names=data.columns, class_names=np.unique(population['PRED']), discretize_continuous=False)\n",
    "    population = population[population['PRED'] == 0]\n",
    "    population = population.drop(columns=['PRED'])\n",
    "    \n",
    "    no_recourse = []\n",
    "    recourses = pd.DataFrame(columns=population.columns)\n",
    "    for index, row in tqdm(population.iterrows(), total=population.shape[0]):\n",
    "        row = row.values.reshape(1,-1)\n",
    "        if lime:\n",
    "            clf = explainer.explain_instance(row.flatten(), predict_fn=model.predict_proba)#, labels=[0,1])\n",
    "            coefficients = {feat: coeff for (feat, coeff) in clf.as_list()}\n",
    "            coefficients = np.array([coefficients.get(feat, 0) for feat in population.columns])\n",
    "            intercept = clf.intercept[1] # - clf_base2.intercept[1]\n",
    "        else:\n",
    "            coefficients = np.array(model.coef_).flatten()\n",
    "            intercept = model.intercept_[0]\n",
    "        rb = RecourseBuilder(\n",
    "              optimizer=\"cplex\",\n",
    "              coefficients=np.round(coefficients, decimals=4),\n",
    "              intercept=np.round(intercept, decimals=4),\n",
    "              action_set=ActionSet(X=data),\n",
    "              x=row\n",
    "        )\n",
    "        rb = rb.fit()\n",
    "        if not rb['feasible']:\n",
    "            no_recourse.append(index)\n",
    "            continue\n",
    "        new_row = row + rb['actions']\n",
    "        if model.predict(new_row)[0] == 0:\n",
    "            no_recourse.append(index)\n",
    "            continue\n",
    "        recourses.loc[index] = new_row.flatten()\n",
    "    return recourses, no_recourse"
   ]
  },
  {
   "cell_type": "code",
   "execution_count": 5,
   "metadata": {},
   "outputs": [],
   "source": [
    "means = [0,0]\n",
    "covs = [[1,0],[0,1]]\n",
    "def clf(X0, X1):\n",
    "    return X0 + X1 > 0\n",
    "def get_clf(alpha):\n",
    "    return lambda X0, X1: X0 + alpha*X1 > 0"
   ]
  },
  {
   "cell_type": "code",
   "execution_count": 6,
   "metadata": {},
   "outputs": [],
   "source": [
    "def run_single(means1, covs1, means2, covs2, clf1, clf2):\n",
    "    D1 = gen_data(means1, covs1, clf1)\n",
    "    D2 = gen_data(means2, covs1, clf2)\n",
    "\n",
    "    M1 = LogisticRegression(random_state=0, solver='liblinear')\n",
    "    M1.fit(D1[['X0', 'X1']], D1['target'])\n",
    "\n",
    "    CF1, ncf1 = gen_recourses(D1[['X0', 'X1']], M1)\n",
    "\n",
    "    M2 = LogisticRegression(random_state=0, solver='liblinear')\n",
    "    M2.fit(D2[['X0', 'X1']], D2['target'])\n",
    "\n",
    "    CF1['target'] = clf(CF1['X0'], CF1['X1'])\n",
    "    CF1['target'] = CF1['target'].astype(float)\n",
    "    CF1['M1_pred'] = M1.predict(CF1[['X0', 'X1']])\n",
    "    CF1['M2_pred'] = M2.predict(CF1[['X0', 'X1']])\n",
    "\n",
    "    invpct = 100*(1-np.mean(CF1['M2_pred']))\n",
    "    # print('Invalidation is', invpct, '%')\n",
    "    M1_acc = cross_val_score(M1, D1[['X0', 'X1']], D1['target'], cv=10).mean()\n",
    "    # print('M1 cross val acc', M1_acc)\n",
    "    M2_acc = cross_val_score(M2, D2[['X0', 'X1']], D2['target'], cv=10).mean()\n",
    "    # print('M2 cross val acc', M2_acc)\n",
    "    return invpct, M1_acc, M2_acc, wasserstein_distance(D1['X0'], D2['X0'])"
   ]
  },
  {
   "cell_type": "code",
   "execution_count": 7,
   "metadata": {},
   "outputs": [],
   "source": [
    "def runall(alphas):\n",
    "    inv, M1accs, M2accs, shifts = [], [], [], []\n",
    "    for alpha in tqdm(alphas):\n",
    "        invpct, m1, m2, shift = run_single(means, covs, means, covs, clf, get_clf(alpha))\n",
    "        inv.append(invpct)\n",
    "        M1accs.append(m1)\n",
    "        M2accs.append(m2)\n",
    "        shifts.append(shift)\n",
    "    return inv, M1accs, M2accs, shifts"
   ]
  },
  {
   "cell_type": "code",
   "execution_count": 8,
   "metadata": {},
   "outputs": [],
   "source": [
    "def gen_data(means, covs, clf, points=2000):\n",
    "    data = np.random.multivariate_normal(means, covs, points)\n",
    "    data = pd.DataFrame(data, columns=['X0', 'X1'])\n",
    "    data['target'] = clf(data['X0'], data['X1'])\n",
    "    data['target'] = data['target'].astype(float)\n",
    "    return data"
   ]
  },
  {
   "cell_type": "code",
   "execution_count": 9,
   "metadata": {},
   "outputs": [
    {
     "data": {
      "text/plain": [
       "array([-40. , -30. , -20. , -15. , -13. , -11. ,  -9. ,  -7. ,  -5. ,\n",
       "        -4. ,  -3. ,  -2. ,  -1.5,  -1. ,  -0.5,   0. ,   0.5,   1. ,\n",
       "         1.5,   2. ,   3. ,   4. ,   5. ,   7. ,   9. ,  11. ,  13. ,\n",
       "        15. ,  20. ,  30. ,  40. ,  50. ])"
      ]
     },
     "execution_count": 9,
     "metadata": {},
     "output_type": "execute_result"
    }
   ],
   "source": [
    "alphas3 = [i/100 for i in range(60,85,10)]\n",
    "alphas3 += [i/100 for i in range(85,95,2)]\n",
    "alphas3 += [i/100 for i in range(95,98,1)]\n",
    "alphas3 += [i/1000 for i in range(980,1021,5)]\n",
    "alphas3 += [i/100 for i in range(103,105,1)]\n",
    "alphas3 += [i/100 for i in range(105,116,2)]\n",
    "alphas3 += [i/100 for i in range(120,151,10)]\n",
    "\n",
    "100*(np.array(alphas3)-1)"
   ]
  },
  {
   "cell_type": "code",
   "execution_count": null,
   "metadata": {},
   "outputs": [],
   "source": []
  },
  {
   "cell_type": "code",
   "execution_count": 10,
   "metadata": {},
   "outputs": [
    {
     "data": {
      "application/vnd.jupyter.widget-view+json": {
       "model_id": "35379542f2234d6ebe6b87f187a94efa",
       "version_major": 2,
       "version_minor": 0
      },
      "text/plain": [
       "HBox(children=(IntProgress(value=0, max=32), HTML(value='')))"
      ]
     },
     "metadata": {},
     "output_type": "display_data"
    },
    {
     "data": {
      "application/vnd.jupyter.widget-view+json": {
       "model_id": "975ece429d81409c830964478de9623b",
       "version_major": 2,
       "version_minor": 0
      },
      "text/plain": [
       "HBox(children=(IntProgress(value=0, max=1030), HTML(value='')))"
      ]
     },
     "metadata": {},
     "output_type": "display_data"
    },
    {
     "data": {
      "application/vnd.jupyter.widget-view+json": {
       "model_id": "5d7f58c1c2964ce89315642905a809ce",
       "version_major": 2,
       "version_minor": 0
      },
      "text/plain": [
       "HBox(children=(IntProgress(value=0, max=1030), HTML(value='')))"
      ]
     },
     "metadata": {},
     "output_type": "display_data"
    },
    {
     "data": {
      "application/vnd.jupyter.widget-view+json": {
       "model_id": "1e0f5bf7d2d74dc7ba88615dc1d4838e",
       "version_major": 2,
       "version_minor": 0
      },
      "text/plain": [
       "HBox(children=(IntProgress(value=0, max=985), HTML(value='')))"
      ]
     },
     "metadata": {},
     "output_type": "display_data"
    },
    {
     "data": {
      "application/vnd.jupyter.widget-view+json": {
       "model_id": "48694a11f0384c56a230a03bacbc4d34",
       "version_major": 2,
       "version_minor": 0
      },
      "text/plain": [
       "HBox(children=(IntProgress(value=0, max=984), HTML(value='')))"
      ]
     },
     "metadata": {},
     "output_type": "display_data"
    },
    {
     "data": {
      "application/vnd.jupyter.widget-view+json": {
       "model_id": "90e9c30adb094e09b197c64d6d958ff9",
       "version_major": 2,
       "version_minor": 0
      },
      "text/plain": [
       "HBox(children=(IntProgress(value=0, max=1027), HTML(value='')))"
      ]
     },
     "metadata": {},
     "output_type": "display_data"
    },
    {
     "data": {
      "application/vnd.jupyter.widget-view+json": {
       "model_id": "3242d193360d42f3bf15601c2e2ed0e0",
       "version_major": 2,
       "version_minor": 0
      },
      "text/plain": [
       "HBox(children=(IntProgress(value=0, max=1000), HTML(value='')))"
      ]
     },
     "metadata": {},
     "output_type": "display_data"
    },
    {
     "data": {
      "application/vnd.jupyter.widget-view+json": {
       "model_id": "af6fe5b783e84c309756c1d447df1805",
       "version_major": 2,
       "version_minor": 0
      },
      "text/plain": [
       "HBox(children=(IntProgress(value=0, max=994), HTML(value='')))"
      ]
     },
     "metadata": {},
     "output_type": "display_data"
    },
    {
     "data": {
      "application/vnd.jupyter.widget-view+json": {
       "model_id": "2ef72a99d8a74f52811dcf96dbafec8e",
       "version_major": 2,
       "version_minor": 0
      },
      "text/plain": [
       "HBox(children=(IntProgress(value=0, max=1005), HTML(value='')))"
      ]
     },
     "metadata": {},
     "output_type": "display_data"
    },
    {
     "data": {
      "application/vnd.jupyter.widget-view+json": {
       "model_id": "267d27528ae14d069c9d0d5c13313716",
       "version_major": 2,
       "version_minor": 0
      },
      "text/plain": [
       "HBox(children=(IntProgress(value=0, max=973), HTML(value='')))"
      ]
     },
     "metadata": {},
     "output_type": "display_data"
    },
    {
     "data": {
      "application/vnd.jupyter.widget-view+json": {
       "model_id": "dfea09bb1519445eb6e106d457cb05b3",
       "version_major": 2,
       "version_minor": 0
      },
      "text/plain": [
       "HBox(children=(IntProgress(value=0, max=1008), HTML(value='')))"
      ]
     },
     "metadata": {},
     "output_type": "display_data"
    },
    {
     "data": {
      "application/vnd.jupyter.widget-view+json": {
       "model_id": "e454a8cfa5c14663af220d986ea27ecb",
       "version_major": 2,
       "version_minor": 0
      },
      "text/plain": [
       "HBox(children=(IntProgress(value=0, max=1011), HTML(value='')))"
      ]
     },
     "metadata": {},
     "output_type": "display_data"
    },
    {
     "data": {
      "application/vnd.jupyter.widget-view+json": {
       "model_id": "80a3baea1b0543fda18feda518769b43",
       "version_major": 2,
       "version_minor": 0
      },
      "text/plain": [
       "HBox(children=(IntProgress(value=0, max=978), HTML(value='')))"
      ]
     },
     "metadata": {},
     "output_type": "display_data"
    },
    {
     "data": {
      "application/vnd.jupyter.widget-view+json": {
       "model_id": "0ae21093e5cf4b3eb9c8609c795edeb2",
       "version_major": 2,
       "version_minor": 0
      },
      "text/plain": [
       "HBox(children=(IntProgress(value=0, max=992), HTML(value='')))"
      ]
     },
     "metadata": {},
     "output_type": "display_data"
    },
    {
     "data": {
      "application/vnd.jupyter.widget-view+json": {
       "model_id": "7837dc4ee1a446db8edaebe630d610fa",
       "version_major": 2,
       "version_minor": 0
      },
      "text/plain": [
       "HBox(children=(IntProgress(value=0, max=1013), HTML(value='')))"
      ]
     },
     "metadata": {},
     "output_type": "display_data"
    },
    {
     "data": {
      "application/vnd.jupyter.widget-view+json": {
       "model_id": "91eed57471c24c73a7544f727fb12455",
       "version_major": 2,
       "version_minor": 0
      },
      "text/plain": [
       "HBox(children=(IntProgress(value=0, max=953), HTML(value='')))"
      ]
     },
     "metadata": {},
     "output_type": "display_data"
    },
    {
     "data": {
      "application/vnd.jupyter.widget-view+json": {
       "model_id": "d7cbba1f06d04027946805ce7724e33a",
       "version_major": 2,
       "version_minor": 0
      },
      "text/plain": [
       "HBox(children=(IntProgress(value=0, max=1010), HTML(value='')))"
      ]
     },
     "metadata": {},
     "output_type": "display_data"
    },
    {
     "data": {
      "application/vnd.jupyter.widget-view+json": {
       "model_id": "72e475bc21324c319849de7cafe17adf",
       "version_major": 2,
       "version_minor": 0
      },
      "text/plain": [
       "HBox(children=(IntProgress(value=0, max=962), HTML(value='')))"
      ]
     },
     "metadata": {},
     "output_type": "display_data"
    },
    {
     "data": {
      "application/vnd.jupyter.widget-view+json": {
       "model_id": "95f1b955f91f474abf0b15f213281789",
       "version_major": 2,
       "version_minor": 0
      },
      "text/plain": [
       "HBox(children=(IntProgress(value=0, max=969), HTML(value='')))"
      ]
     },
     "metadata": {},
     "output_type": "display_data"
    },
    {
     "data": {
      "application/vnd.jupyter.widget-view+json": {
       "model_id": "552be4c8212e43daaa951e96618a04f9",
       "version_major": 2,
       "version_minor": 0
      },
      "text/plain": [
       "HBox(children=(IntProgress(value=0, max=987), HTML(value='')))"
      ]
     },
     "metadata": {},
     "output_type": "display_data"
    },
    {
     "data": {
      "application/vnd.jupyter.widget-view+json": {
       "model_id": "0177882fd9fc4cd08b8407f549fbe09a",
       "version_major": 2,
       "version_minor": 0
      },
      "text/plain": [
       "HBox(children=(IntProgress(value=0, max=956), HTML(value='')))"
      ]
     },
     "metadata": {},
     "output_type": "display_data"
    },
    {
     "data": {
      "application/vnd.jupyter.widget-view+json": {
       "model_id": "a0f757d56b5e4ac2b1037db5988efcdc",
       "version_major": 2,
       "version_minor": 0
      },
      "text/plain": [
       "HBox(children=(IntProgress(value=0, max=986), HTML(value='')))"
      ]
     },
     "metadata": {},
     "output_type": "display_data"
    },
    {
     "data": {
      "application/vnd.jupyter.widget-view+json": {
       "model_id": "bd21f00082784c02a159f27bd43922c4",
       "version_major": 2,
       "version_minor": 0
      },
      "text/plain": [
       "HBox(children=(IntProgress(value=0, max=1045), HTML(value='')))"
      ]
     },
     "metadata": {},
     "output_type": "display_data"
    },
    {
     "data": {
      "application/vnd.jupyter.widget-view+json": {
       "model_id": "320a805262d34f6984fe06db4d6ec94a",
       "version_major": 2,
       "version_minor": 0
      },
      "text/plain": [
       "HBox(children=(IntProgress(value=0, max=1001), HTML(value='')))"
      ]
     },
     "metadata": {},
     "output_type": "display_data"
    },
    {
     "data": {
      "application/vnd.jupyter.widget-view+json": {
       "model_id": "cbb5932c57fe49a1b9b9ec1c493dba95",
       "version_major": 2,
       "version_minor": 0
      },
      "text/plain": [
       "HBox(children=(IntProgress(value=0, max=978), HTML(value='')))"
      ]
     },
     "metadata": {},
     "output_type": "display_data"
    },
    {
     "data": {
      "application/vnd.jupyter.widget-view+json": {
       "model_id": "fa168dae35004a728323717cd842008c",
       "version_major": 2,
       "version_minor": 0
      },
      "text/plain": [
       "HBox(children=(IntProgress(value=0, max=1056), HTML(value='')))"
      ]
     },
     "metadata": {},
     "output_type": "display_data"
    },
    {
     "data": {
      "application/vnd.jupyter.widget-view+json": {
       "model_id": "0bd78154c5564f89b2d26945bad7dc31",
       "version_major": 2,
       "version_minor": 0
      },
      "text/plain": [
       "HBox(children=(IntProgress(value=0, max=1043), HTML(value='')))"
      ]
     },
     "metadata": {},
     "output_type": "display_data"
    },
    {
     "data": {
      "application/vnd.jupyter.widget-view+json": {
       "model_id": "a222f48d417a4532971faa779fbb7b21",
       "version_major": 2,
       "version_minor": 0
      },
      "text/plain": [
       "HBox(children=(IntProgress(value=0, max=980), HTML(value='')))"
      ]
     },
     "metadata": {},
     "output_type": "display_data"
    },
    {
     "data": {
      "application/vnd.jupyter.widget-view+json": {
       "model_id": "aed01f9d79324d7d95ce727f405c7e79",
       "version_major": 2,
       "version_minor": 0
      },
      "text/plain": [
       "HBox(children=(IntProgress(value=0, max=1034), HTML(value='')))"
      ]
     },
     "metadata": {},
     "output_type": "display_data"
    },
    {
     "data": {
      "application/vnd.jupyter.widget-view+json": {
       "model_id": "550d65222bd74e31ba3551c574c39429",
       "version_major": 2,
       "version_minor": 0
      },
      "text/plain": [
       "HBox(children=(IntProgress(value=0, max=1026), HTML(value='')))"
      ]
     },
     "metadata": {},
     "output_type": "display_data"
    },
    {
     "data": {
      "application/vnd.jupyter.widget-view+json": {
       "model_id": "190363bf008d474493ca9aa45840b5bd",
       "version_major": 2,
       "version_minor": 0
      },
      "text/plain": [
       "HBox(children=(IntProgress(value=0, max=1017), HTML(value='')))"
      ]
     },
     "metadata": {},
     "output_type": "display_data"
    },
    {
     "data": {
      "application/vnd.jupyter.widget-view+json": {
       "model_id": "295951de407d44ff99a60fbe4b5ec6e5",
       "version_major": 2,
       "version_minor": 0
      },
      "text/plain": [
       "HBox(children=(IntProgress(value=0, max=1021), HTML(value='')))"
      ]
     },
     "metadata": {},
     "output_type": "display_data"
    },
    {
     "data": {
      "application/vnd.jupyter.widget-view+json": {
       "model_id": "e915cdb30bbe4d65847f9e7088043ed2",
       "version_major": 2,
       "version_minor": 0
      },
      "text/plain": [
       "HBox(children=(IntProgress(value=0, max=960), HTML(value='')))"
      ]
     },
     "metadata": {},
     "output_type": "display_data"
    },
    {
     "name": "stdout",
     "output_type": "stream",
     "text": [
      "\n"
     ]
    }
   ],
   "source": [
    "inv3, M1accs3, M2accs3, shifts = runall(alphas3)"
   ]
  },
  {
   "cell_type": "code",
   "execution_count": null,
   "metadata": {},
   "outputs": [],
   "source": []
  },
  {
   "cell_type": "code",
   "execution_count": 19,
   "metadata": {},
   "outputs": [
    {
     "data": {
      "text/plain": [
       "<Figure size 1080x720 with 0 Axes>"
      ]
     },
     "metadata": {},
     "output_type": "display_data"
    },
    {
     "data": {
      "image/png": "[encoded data removed]",
      "text/plain": [
       "<Figure size 900x600 with 1 Axes>"
      ]
     },
     "metadata": {
      "needs_background": "light"
     },
     "output_type": "display_data"
    }
   ],
   "source": [
    "t = 100*(np.array(alphas3)-1)\n",
    "data1 = inv3\n",
    "# data2 = 100*np.array(M1accs3)+np.random.random(len(alphas3))\n",
    "# data3 = 100*np.array(M2accs3)+np.random.random(len(alphas3))\n",
    "data2 = 100*np.array(M1accs3)\n",
    "data3 = 100*np.array(M2accs3)\n",
    "\n",
    "plt.figure(dpi=180)\n",
    "fig, ax1 = plt.subplots()\n",
    "fig.set_dpi(150)\n",
    "\n",
    "color = 'C1'\n",
    "ax1.set_xlabel(r'$\\alpha$ Shifting Targets (log scale)', fontsize=15)\n",
    "ax1.set_ylabel('Invalidation (%)', fontsize=17)#, color='C1')\n",
    "ax1.plot(t, data1, color=color, label='Invalidation of CF1 by M2', marker='o')\n",
    "ax1.tick_params(axis='y')#, labelcolor='C1')\n",
    "ax1.set_ylim(-1, 19+max(data1))\n",
    "ax1.set_xlim(-105, 105)\n",
    "ax1.axvline(0, linestyle=':')\n",
    "# ax1.axvline(0, color='C3', linestyle=':', label='No Shift')\n",
    "# ax1.legend(loc=3)\n",
    "ax1.legend(fontsize=14)\n",
    "ax1.set_xscale('symlog')\n",
    "\n",
    "# ax2 = ax1.twinx()\n",
    "# color = 'C0'\n",
    "# ax2.set_ylabel('10-Fold CrossVal Accuracy (%)', color='C0')\n",
    "# ax2.plot(t+0.01, data2, label='M1 acc.', color='C0', marker='1', zorder=2, alpha=0.5)\n",
    "# ax2.plot(t-0.01, data3, label='M2 acc.', color='C2', marker='2', zorder=1, alpha=0.5)\n",
    "# # ax2.scatter(t-0.01, data3, label='M2 acc.', color='red', marker='.')\n",
    "# ax2.tick_params(axis='y', labelcolor='C2')\n",
    "# ax2.set_ylim(-1, 104)\n",
    "# ax2.legend(loc=4)\n",
    "\n",
    "# plt.title('Invalidation vs Distribution Shifts')\n",
    "plt.show()\n"
   ]
  },
  {
   "cell_type": "code",
   "execution_count": 12,
   "metadata": {},
   "outputs": [
    {
     "name": "stdout",
     "output_type": "stream",
     "text": [
      "[-40.  -30.  -20.  -15.  -13.  -11.   -9.   -7.   -5.   -4.   -3.   -2.\n",
      "  -1.5  -1.   -0.5   0.    0.5   1.    1.5   2.    3.    4.    5.    7.\n",
      "   9.   11.   13.   15.   20.   30.   40.   50. ]\n",
      "[44.466019417475735, 47.66990291262137, 45.98984771573604, 51.42276422764227, 31.450827653359305, 25.5, 40.3420523138833, 36.417910447761194, 32.47687564234327, 0.09920634920634885, 4.055390702274975, 0.30674846625766694, 11.895161290322577, 0.29615004935834577, 1.8887722980062915, 16.732673267326735, 35.446985446985444, 23.11661506707946, 5.876393110435663, 38.59832635983263, 29.20892494929006, 28.612440191387556, 4.7952047952048, 34.56032719836401, 33.14393939393939, 37.58389261744966, 33.673469387755105, 26.01547388781431, 41.32553606237816, 47.39429695181907, 38.49167482859941, 46.875]\n",
      "[99.70024876 99.649995   99.85074627 99.6        99.70074627 99.70049251\n",
      " 99.74924373 99.55024376 99.75       99.749995   99.64949749 99.8\n",
      " 99.64924373 99.9        99.49949749 99.6499975  99.79924623 99.60099002\n",
      " 99.7999975  99.79974874 99.74949749 99.60024376 99.85       99.75024626\n",
      " 99.84974874 99.60099252 99.7999975  99.74974624 99.89949749 99.70049501\n",
      " 99.70049751 99.65049251]\n",
      "[99.64974624 99.75       99.64949499 99.65074127 99.84974874 99.75024376\n",
      " 99.65024376 99.4999875  99.69949499 99.80049501 99.79974874 99.65024376\n",
      " 99.49974624 99.84974874 99.59898997 99.79949749 99.55024876 99.35074377\n",
      " 99.75       99.65024376 99.7        99.59949499 99.45024876 99.79974874\n",
      " 99.75       99.55       99.399985   99.70049501 99.60124128 99.49924373\n",
      " 99.7999975  99.85024626]\n"
     ]
    }
   ],
   "source": [
    "print(t)\n",
    "print(data1)\n",
    "print(data2)\n",
    "print(data3)"
   ]
  },
  {
   "cell_type": "code",
   "execution_count": null,
   "metadata": {},
   "outputs": [],
   "source": []
  }
 ],
 "metadata": {
  "kernelspec": {
   "display_name": "Python 3",
   "language": "python",
   "name": "python3"
  },
  "language_info": {
   "codemirror_mode": {
    "name": "ipython",
    "version": 3
   },
   "file_extension": ".py",
   "mimetype": "text/x-python",
   "name": "python",
   "nbconvert_exporter": "python",
   "pygments_lexer": "ipython3",
   "version": "3.7.3"
  }
 },
 "nbformat": 4,
 "nbformat_minor": 2
}
